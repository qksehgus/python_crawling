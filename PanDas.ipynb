{
 "cells": [
  {
   "cell_type": "code",
   "execution_count": 1,
   "metadata": {},
   "outputs": [],
   "source": [
    "import pandas as pd"
   ]
  },
  {
   "cell_type": "code",
   "execution_count": 2,
   "metadata": {},
   "outputs": [
    {
     "name": "stdout",
     "output_type": "stream",
     "text": [
      "리얼비프버거     7500\n",
      "싸이버거       3800\n",
      "딥치즈버거      4000\n",
      "인크레더블버거    4900\n",
      "언비리버블버거    5100\n",
      "dtype: int64\n"
     ]
    }
   ],
   "source": [
    "sr=pd.Series([7500,3800,4000,4900,5100],\n",
    "            index=['리얼비프버거','싸이버거','딥치즈버거','인크레더블버거','언비리버블버거'])\n",
    "print(sr)\n",
    "#1차원 배열"
   ]
  },
  {
   "cell_type": "code",
   "execution_count": 3,
   "metadata": {},
   "outputs": [],
   "source": [
    "values=[[1,2,3],[4,5,6],[7,8,9]]#값\n",
    "index=['One','Two','Three']#인덱스\n",
    "columns=['a','b','c']#열\n",
    "df=pd.DataFrame(values,index=index,columns=columns)#2차원 리스트"
   ]
  },
  {
   "cell_type": "code",
   "execution_count": 4,
   "metadata": {},
   "outputs": [
    {
     "name": "stdout",
     "output_type": "stream",
     "text": [
      "       a  b  c\n",
      "One    1  2  3\n",
      "Two    4  5  6\n",
      "Three  7  8  9\n"
     ]
    }
   ],
   "source": [
    "print(df)"
   ]
  },
  {
   "cell_type": "code",
   "execution_count": 5,
   "metadata": {},
   "outputs": [
    {
     "name": "stdout",
     "output_type": "stream",
     "text": [
      "         학번   이름    점수\n",
      "0  20161533  안시흥  90.1\n",
      "1  20151542  고창원  58.5\n",
      "2  20201115  장범선  72.4\n",
      "         학번   이름    점수\n",
      "1  20151542  고창원  58.5\n",
      "2  20201115  장범선  72.4\n",
      "0    90.1\n",
      "1    58.5\n",
      "2    72.4\n",
      "Name: 점수, dtype: float64\n"
     ]
    }
   ],
   "source": [
    "data=[\n",
    "    ['20161533','안시흥',90.1],\n",
    "    ['20151542','고창원',58.5],\n",
    "    ['20201115','장범선',72.4],\n",
    "]\n",
    "df=pd.DataFrame(data,columns=['학번','이름','점수'])\n",
    "print(df)\n",
    "print(df.tail(2))\n",
    "print(df['점수'])"
   ]
  },
  {
   "cell_type": "code",
   "execution_count": 6,
   "metadata": {},
   "outputs": [
    {
     "name": "stdout",
     "output_type": "stream",
     "text": [
      "         학번   이름    점수\n",
      "0  20161533  안시흥  90.1\n",
      "1  20151542  고창원  58.5\n",
      "2  20201115  장범선  72.4\n"
     ]
    }
   ],
   "source": [
    "print(df.head(3))"
   ]
  },
  {
   "cell_type": "code",
   "execution_count": 7,
   "metadata": {},
   "outputs": [],
   "source": [
    "travel=pd.read_csv('sample_csv.csv',engine='python')"
   ]
  },
  {
   "cell_type": "code",
   "execution_count": 12,
   "metadata": {},
   "outputs": [
    {
     "data": {
      "text/html": [
       "<div>\n",
       "<style scoped>\n",
       "    .dataframe tbody tr th:only-of-type {\n",
       "        vertical-align: middle;\n",
       "    }\n",
       "\n",
       "    .dataframe tbody tr th {\n",
       "        vertical-align: top;\n",
       "    }\n",
       "\n",
       "    .dataframe thead th {\n",
       "        text-align: right;\n",
       "    }\n",
       "</style>\n",
       "<table border=\"1\" class=\"dataframe\">\n",
       "  <thead>\n",
       "    <tr style=\"text-align: right;\">\n",
       "      <th></th>\n",
       "      <th>업종</th>\n",
       "      <th>상호</th>\n",
       "      <th>소재지도로명주소</th>\n",
       "      <th>전화번호</th>\n",
       "      <th>데이터기준일자</th>\n",
       "    </tr>\n",
       "  </thead>\n",
       "  <tbody>\n",
       "    <tr>\n",
       "      <th>0</th>\n",
       "      <td>국내여행업</td>\n",
       "      <td>(주)뉴동명관광</td>\n",
       "      <td>충청남도 천안시 동남구 유량로 182</td>\n",
       "      <td>041-556-4902</td>\n",
       "      <td>2020-12-09</td>\n",
       "    </tr>\n",
       "    <tr>\n",
       "      <th>1</th>\n",
       "      <td>국내여행업</td>\n",
       "      <td>(주)뉴재승관광여행사</td>\n",
       "      <td>충청남도 천안시 동남구 목천읍 종합휴양지4길 2, 2층 201호</td>\n",
       "      <td>041-906-9000</td>\n",
       "      <td>2020-12-09</td>\n",
       "    </tr>\n",
       "    <tr>\n",
       "      <th>2</th>\n",
       "      <td>국내여행업</td>\n",
       "      <td>(주)엘리트관광</td>\n",
       "      <td>충청남도 천안시 동남구 광덕면 차령고개로 468</td>\n",
       "      <td>041-576-4517</td>\n",
       "      <td>2020-12-09</td>\n",
       "    </tr>\n",
       "    <tr>\n",
       "      <th>3</th>\n",
       "      <td>국내여행업</td>\n",
       "      <td>(주)은성관광</td>\n",
       "      <td>충청남도 천안시 서북구 두정상가1길 5, 새아스빌 202-1호</td>\n",
       "      <td>041-834-1190</td>\n",
       "      <td>2020-12-09</td>\n",
       "    </tr>\n",
       "    <tr>\n",
       "      <th>4</th>\n",
       "      <td>국내여행업</td>\n",
       "      <td>(주)하늘안관광</td>\n",
       "      <td>충청남도 천안시 동남구 신방남부길 87</td>\n",
       "      <td>041-553-5555</td>\n",
       "      <td>2020-12-09</td>\n",
       "    </tr>\n",
       "    <tr>\n",
       "      <th>...</th>\n",
       "      <td>...</td>\n",
       "      <td>...</td>\n",
       "      <td>...</td>\n",
       "      <td>...</td>\n",
       "      <td>...</td>\n",
       "    </tr>\n",
       "    <tr>\n",
       "      <th>94</th>\n",
       "      <td>국외여행업</td>\n",
       "      <td>(주)팜투어천안여행사</td>\n",
       "      <td>충청남도 천안시 서북구 서부대로 426, 2층</td>\n",
       "      <td>NaN</td>\n",
       "      <td>2020-12-09</td>\n",
       "    </tr>\n",
       "    <tr>\n",
       "      <th>95</th>\n",
       "      <td>국내여행업, 국외여행업</td>\n",
       "      <td>(주)월드머니</td>\n",
       "      <td>충청남도 천안시 동남구 공설시장3길 3, 1층</td>\n",
       "      <td>NaN</td>\n",
       "      <td>2020-12-09</td>\n",
       "    </tr>\n",
       "    <tr>\n",
       "      <th>96</th>\n",
       "      <td>국외여행업</td>\n",
       "      <td>JR TOUR</td>\n",
       "      <td>충청남도 천안시 서북구 성환읍 성환1로 117, 777빌딩 402호</td>\n",
       "      <td>NaN</td>\n",
       "      <td>2020-12-09</td>\n",
       "    </tr>\n",
       "    <tr>\n",
       "      <th>97</th>\n",
       "      <td>국내여행업, 국외여행업</td>\n",
       "      <td>(주)다온여행사</td>\n",
       "      <td>충청남도 천안시 동남구 신촌4로 42, 신방현대프라자 4층 414호</td>\n",
       "      <td>NaN</td>\n",
       "      <td>2020-12-09</td>\n",
       "    </tr>\n",
       "    <tr>\n",
       "      <th>98</th>\n",
       "      <td>국내여행업, 국외여행업</td>\n",
       "      <td>(주)땅콩투어</td>\n",
       "      <td>충청남도 천안시 동남구 북면 충절로 1457</td>\n",
       "      <td>070-4408-1311</td>\n",
       "      <td>2020-12-09</td>\n",
       "    </tr>\n",
       "  </tbody>\n",
       "</table>\n",
       "<p>99 rows × 5 columns</p>\n",
       "</div>"
      ],
      "text/plain": [
       "              업종           상호                                소재지도로명주소  \\\n",
       "0          국내여행업     (주)뉴동명관광                   충청남도 천안시 동남구 유량로 182    \n",
       "1          국내여행업  (주)뉴재승관광여행사     충청남도 천안시 동남구 목천읍 종합휴양지4길 2, 2층 201호   \n",
       "2          국내여행업     (주)엘리트관광              충청남도 천안시 동남구 광덕면 차령고개로 468   \n",
       "3          국내여행업      (주)은성관광     충청남도 천안시 서북구 두정상가1길 5, 새아스빌 202-1호    \n",
       "4          국내여행업     (주)하늘안관광                  충청남도 천안시 동남구 신방남부길 87    \n",
       "..           ...          ...                                     ...   \n",
       "94         국외여행업  (주)팜투어천안여행사              충청남도 천안시 서북구 서부대로 426, 2층    \n",
       "95  국내여행업, 국외여행업      (주)월드머니              충청남도 천안시 동남구 공설시장3길 3, 1층    \n",
       "96         국외여행업      JR TOUR   충청남도 천안시 서북구 성환읍 성환1로 117, 777빌딩 402호   \n",
       "97  국내여행업, 국외여행업     (주)다온여행사  충청남도 천안시 동남구 신촌4로 42, 신방현대프라자 4층 414호    \n",
       "98  국내여행업, 국외여행업      (주)땅콩투어                충청남도 천안시 동남구 북면 충절로 1457   \n",
       "\n",
       "             전화번호     데이터기준일자  \n",
       "0    041-556-4902  2020-12-09  \n",
       "1    041-906-9000  2020-12-09  \n",
       "2    041-576-4517  2020-12-09  \n",
       "3    041-834-1190  2020-12-09  \n",
       "4    041-553-5555  2020-12-09  \n",
       "..            ...         ...  \n",
       "94            NaN  2020-12-09  \n",
       "95            NaN  2020-12-09  \n",
       "96            NaN  2020-12-09  \n",
       "97            NaN  2020-12-09  \n",
       "98  070-4408-1311  2020-12-09  \n",
       "\n",
       "[99 rows x 5 columns]"
      ]
     },
     "execution_count": 12,
     "metadata": {},
     "output_type": "execute_result"
    }
   ],
   "source": [
    "travel"
   ]
  },
  {
   "cell_type": "code",
   "execution_count": null,
   "metadata": {},
   "outputs": [],
   "source": []
  }
 ],
 "metadata": {
  "kernelspec": {
   "display_name": "Python 3",
   "language": "python",
   "name": "python3"
  },
  "language_info": {
   "codemirror_mode": {
    "name": "ipython",
    "version": 3
   },
   "file_extension": ".py",
   "mimetype": "text/x-python",
   "name": "python",
   "nbconvert_exporter": "python",
   "pygments_lexer": "ipython3",
   "version": "3.8.5"
  }
 },
 "nbformat": 4,
 "nbformat_minor": 4
}
