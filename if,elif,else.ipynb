{
 "cells": [
  {
   "cell_type": "code",
   "execution_count": 14,
   "metadata": {},
   "outputs": [
    {
     "name": "stdout",
     "output_type": "stream",
     "text": [
      "B등급\n"
     ]
    }
   ],
   "source": [
    "x=((95+72+89+65)/5)\n",
    "if x>=90:\n",
    "    print(\"A등급\")\n",
    "elif x>=80:\n",
    "    print(\"B등급\")\n",
    "elif x>=70:\n",
    "    print(\"B등급\")\n",
    "elif x>=60:\n",
    "    print(\"B등급\")\n",
    "else:\n",
    "    print(\"F등급\")\n"
   ]
  },
  {
   "cell_type": "code",
   "execution_count": null,
   "metadata": {},
   "outputs": [],
   "source": []
  }
 ],
 "metadata": {
  "kernelspec": {
   "display_name": "Python 3",
   "language": "python",
   "name": "python3"
  },
  "language_info": {
   "codemirror_mode": {
    "name": "ipython",
    "version": 3
   },
   "file_extension": ".py",
   "mimetype": "text/x-python",
   "name": "python",
   "nbconvert_exporter": "python",
   "pygments_lexer": "ipython3",
   "version": "3.8.5"
  }
 },
 "nbformat": 4,
 "nbformat_minor": 4
}
