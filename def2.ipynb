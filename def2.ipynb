{
 "cells": [
  {
   "cell_type": "code",
   "execution_count": 1,
   "metadata": {},
   "outputs": [],
   "source": [
    "def aver_score(a,b,c,d,e):\n",
    "    score=((a+b+c+d+e)/5)\n",
    "    result=result_score(score)\n",
    "    \n",
    "def result_score(score):\n",
    "    if score>=90:\n",
    "        print(\"A등급\")\n",
    "    elif score>=80:\n",
    "        print(\"B등급\")\n",
    "    elif score>=70:\n",
    "        print(\"B등급\")\n",
    "    elif score>=60:\n",
    "        print(\"B등급\")\n",
    "    else:\n",
    "        print(\"F등급\")"
   ]
  },
  {
   "cell_type": "code",
   "execution_count": 3,
   "metadata": {},
   "outputs": [
    {
     "name": "stdout",
     "output_type": "stream",
     "text": [
      "B등급\n"
     ]
    }
   ],
   "source": [
    "result=aver_score(80,60,40,90,80)"
   ]
  },
  {
   "cell_type": "code",
   "execution_count": null,
   "metadata": {},
   "outputs": [],
   "source": []
  }
 ],
 "metadata": {
  "kernelspec": {
   "display_name": "Python 3",
   "language": "python",
   "name": "python3"
  },
  "language_info": {
   "codemirror_mode": {
    "name": "ipython",
    "version": 3
   },
   "file_extension": ".py",
   "mimetype": "text/x-python",
   "name": "python",
   "nbconvert_exporter": "python",
   "pygments_lexer": "ipython3",
   "version": "3.8.5"
  }
 },
 "nbformat": 4,
 "nbformat_minor": 4
}
