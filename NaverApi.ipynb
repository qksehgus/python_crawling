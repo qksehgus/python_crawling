{
 "cells": [
  {
   "cell_type": "code",
   "execution_count": 1,
   "metadata": {},
   "outputs": [
    {
     "name": "stdout",
     "output_type": "stream",
     "text": [
      "검색어를 입력 : 안젤리카\n",
      "검색 결과 갯수 입력 : 10\n",
      "프리엔제 안젤리카 토너 &amp; 아줄렌 크림, 부지런히 쓴 비포애프터 :)\n",
      "https://blog.naver.com/ccc1540?Redirect=Log&logNo=221912376246\n",
      "여자향수추천:) 조말론, 튜브로즈 안젤리카 코롱 인텐스 후기\n",
      "https://blog.naver.com/imnnnnyeoni?Redirect=Log&logNo=222237597685\n",
      "약산성토너 찾고 계신다면 프리엔제 안젤리카 토너 어떠세요?\n",
      "https://blog.naver.com/leedan2?Redirect=Log&logNo=221525368116\n",
      "kenner :: 식모 커스텀 케너 블라이스, 안젤리카 이브 디폴트... \n",
      "https://blog.naver.com/ssainpens?Redirect=Log&logNo=222247982222\n",
      "[ 프리엔제 ] 아줄렌 캄 크림과 안젤리카 기초라인 3주... \n",
      "https://blog.naver.com/a10000du?Redirect=Log&logNo=221917532300\n",
      "(2편) 레드와인 블라인드 테스트 4종 시리즈 (안젤리카... \n",
      "https://blog.naver.com/collable?Redirect=Log&logNo=222237151294\n",
      "필리핀 23세 승무원 크리스틴 안젤리카 다세라 집단성폭행 사망\n",
      "https://blog.naver.com/aalove0902?Redirect=Log&logNo=222201033682\n",
      "모바일수집형RPG 애니메이션게임 에픽세븐 죄악의 안젤리카... \n",
      "https://blog.naver.com/cowai?Redirect=Log&logNo=221918515552\n",
      "진정에 좋은 안젤리카 토너 민감성 피부에 딱!\n",
      "https://blog.naver.com/hertnr0203?Redirect=Log&logNo=221545238357\n",
      "프리엔제 (preange) 안젤리카 토너 퀵카밍 패드\n",
      "https://blog.naver.com/eyey88e?Redirect=Log&logNo=222249948053\n"
     ]
    }
   ],
   "source": [
    "import requests\n",
    "from urllib.parse import urlparse\n",
    "def inputData(word,count):\n",
    "    url=\"https://openapi.naver.com/v1/search/blog?query=\"+word+\"&display=\"+count\n",
    "    request = requests.get(urlparse(url).geturl(),\n",
    "                      headers={\"X-Naver-Client-Id\":\"GccppPQs9t5EAptyXuBq\",\n",
    "                              \"X-Naver-Client-Secret\":\"3HBr_Y_RwZ\"})\n",
    "    return request.json()\n",
    "word=input(\"검색어를 입력 : \")\n",
    "count=input(\"검색 결과 갯수 입력 : \")\n",
    "base=inputData(word,count)\n",
    "itme=base['items']\n",
    "for i in itme:\n",
    "    print(i['title'].replace(\"<b>\",\"\").replace(\"</b>\",\"\"))\n",
    "    print(i['link'])"
   ]
  },
  {
   "cell_type": "code",
   "execution_count": null,
   "metadata": {},
   "outputs": [],
   "source": []
  },
  {
   "cell_type": "code",
   "execution_count": null,
   "metadata": {},
   "outputs": [],
   "source": []
  },
  {
   "cell_type": "code",
   "execution_count": null,
   "metadata": {},
   "outputs": [],
   "source": []
  },
  {
   "cell_type": "code",
   "execution_count": null,
   "metadata": {},
   "outputs": [],
   "source": []
  },
  {
   "cell_type": "code",
   "execution_count": null,
   "metadata": {},
   "outputs": [],
   "source": []
  }
 ],
 "metadata": {
  "kernelspec": {
   "display_name": "Python 3",
   "language": "python",
   "name": "python3"
  },
  "language_info": {
   "codemirror_mode": {
    "name": "ipython",
    "version": 3
   },
   "file_extension": ".py",
   "mimetype": "text/x-python",
   "name": "python",
   "nbconvert_exporter": "python",
   "pygments_lexer": "ipython3",
   "version": "3.8.5"
  }
 },
 "nbformat": 4,
 "nbformat_minor": 4
}
