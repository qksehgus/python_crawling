{
 "cells": [
  {
   "cell_type": "code",
   "execution_count": 11,
   "metadata": {},
   "outputs": [
    {
     "name": "stdout",
     "output_type": "stream",
     "text": [
      "검색어를 입력 : 파이썬\n",
      "검색 결과 갯수 입력 : 10\n",
      "결과\n",
      "파이썬 학원 어떤 과정을 밟을까\n",
      "https://blog.naver.com/eorifi5?Redirect=Log&logNo=222198901598\n",
      "파이썬 학원 필수역량 갖추는 법!\n",
      "https://blog.naver.com/roseess?Redirect=Log&logNo=222167724418\n",
      "파이썬 학원 집중해야 할 포인트\n",
      "https://blog.naver.com/km_y?Redirect=Log&logNo=222122522937\n",
      "파이썬 설치는 초보자에게 아나콘다가 편합니다.\n",
      "https://blog.naver.com/ocmarketing?Redirect=Log&logNo=222197056590\n",
      "부산파이썬학원 미련없는 선정방법!\n",
      "https://blog.naver.com/zhoongumo?Redirect=Log&logNo=222170922939\n",
      "파이썬학원 생소한 분야에 도전하기\n",
      "https://blog.naver.com/ppasa69?Redirect=Log&logNo=222189261836\n",
      "파이썬학원 : 추운데 집에서 공부해 !\n",
      "https://blog.naver.com/designer_dh?Redirect=Log&logNo=222175667325\n",
      "부산파이썬학원 대학생들에게 유명한 곳\n",
      "https://blog.naver.com/cdh0584?Redirect=Log&logNo=222191659212\n",
      "파이썬공부 신중하게 생각해요\n",
      "https://blog.naver.com/hecouple?Redirect=Log&logNo=222199434240\n",
      "파이썬 데이터분석 비전공자도 가능한이유!\n",
      "https://blog.naver.com/sujung1540?Redirect=Log&logNo=222162699559\n"
     ]
    }
   ],
   "source": [
    "import requests\n",
    "from urllib.parse import urlparse\n",
    "def inputData(word,count):\n",
    "    url=\"https://openapi.naver.com/v1/search/blog?query=\"+word+\"&display=\"+count\n",
    "    request = requests.get(urlparse(url).geturl(),\n",
    "                      headers={\"X-Naver-Client-Id\":\"GccppPQs9t5EAptyXuBq\",\n",
    "                              \"X-Naver-Client-Secret\":\"3HBr_Y_RwZ\"})\n",
    "    return request.json()\n",
    "word=input(\"검색어를 입력 : \")\n",
    "count=input(\"검색 결과 갯수 입력 : \")\n",
    "base=inputData(word,count)\n",
    "itme=base['items']\n",
    "for i in itme:\n",
    "    print(i['title'].replace(\"<b>\",\"\").replace(\"</b>\",\"\"))\n",
    "    print(i['link'])"
   ]
  },
  {
   "cell_type": "code",
   "execution_count": null,
   "metadata": {},
   "outputs": [],
   "source": []
  },
  {
   "cell_type": "code",
   "execution_count": null,
   "metadata": {},
   "outputs": [],
   "source": []
  },
  {
   "cell_type": "code",
   "execution_count": null,
   "metadata": {},
   "outputs": [],
   "source": []
  },
  {
   "cell_type": "code",
   "execution_count": null,
   "metadata": {},
   "outputs": [],
   "source": []
  },
  {
   "cell_type": "code",
   "execution_count": null,
   "metadata": {},
   "outputs": [],
   "source": []
  }
 ],
 "metadata": {
  "kernelspec": {
   "display_name": "Python 3",
   "language": "python",
   "name": "python3"
  },
  "language_info": {
   "codemirror_mode": {
    "name": "ipython",
    "version": 3
   },
   "file_extension": ".py",
   "mimetype": "text/x-python",
   "name": "python",
   "nbconvert_exporter": "python",
   "pygments_lexer": "ipython3",
   "version": "3.8.5"
  }
 },
 "nbformat": 4,
 "nbformat_minor": 4
}
