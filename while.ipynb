{
 "cells": [
  {
   "cell_type": "code",
   "execution_count": 1,
   "metadata": {},
   "outputs": [
    {
     "name": "stdout",
     "output_type": "stream",
     "text": [
      "로딩중입니다...0\n",
      "로딩중입니다...1\n",
      "로딩중입니다...2\n",
      "로딩중입니다...3\n",
      "로딩중입니다...4\n",
      "로딩중입니다...5\n",
      "로딩중입니다...6\n",
      "로딩중입니다...7\n",
      "로딩중입니다...8\n",
      "로딩중입니다...9\n",
      "로딩중입니다...10\n",
      "로딩 완료\n"
     ]
    }
   ],
   "source": [
    "roading=0\n",
    "while roading<=10:\n",
    "    print(\"로딩중입니다...%d\"%roading)\n",
    "    roading=roading+1\n",
    "print(\"로딩 완료\")"
   ]
  },
  {
   "cell_type": "code",
   "execution_count": null,
   "metadata": {},
   "outputs": [],
   "source": []
  }
 ],
 "metadata": {
  "kernelspec": {
   "display_name": "Python 3",
   "language": "python",
   "name": "python3"
  },
  "language_info": {
   "codemirror_mode": {
    "name": "ipython",
    "version": 3
   },
   "file_extension": ".py",
   "mimetype": "text/x-python",
   "name": "python",
   "nbconvert_exporter": "python",
   "pygments_lexer": "ipython3",
   "version": "3.8.5"
  }
 },
 "nbformat": 4,
 "nbformat_minor": 4
}
