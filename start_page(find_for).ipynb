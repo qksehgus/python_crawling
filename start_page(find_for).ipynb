{
 "cells": [
  {
   "cell_type": "code",
   "execution_count": 19,
   "metadata": {},
   "outputs": [
    {
     "name": "stdout",
     "output_type": "stream",
     "text": [
      "다음을 시작페이지로\n"
     ]
    }
   ],
   "source": [
    "import requests\n",
    "from bs4 import BeautifulSoup\n",
    "url=\"https://www.daum.net\"\n",
    "http=requests.get(url =url)\n",
    "obj=BeautifulSoup(http.content,\"html.parser\")\n",
    "star=obj.findAll(\"div\",{\"class\":\"inner_head\"})\n",
    "for div in star:\n",
    "    href=div.findAll(\"a\",{\"class\":\"ico_vert link_launch\"})\n",
    "    for txt in href:\n",
    "        print(txt.text)"
   ]
  },
  {
   "cell_type": "code",
   "execution_count": null,
   "metadata": {},
   "outputs": [],
   "source": []
  }
 ],
 "metadata": {
  "kernelspec": {
   "display_name": "Python 3",
   "language": "python",
   "name": "python3"
  },
  "language_info": {
   "codemirror_mode": {
    "name": "ipython",
    "version": 3
   },
   "file_extension": ".py",
   "mimetype": "text/x-python",
   "name": "python",
   "nbconvert_exporter": "python",
   "pygments_lexer": "ipython3",
   "version": "3.8.5"
  }
 },
 "nbformat": 4,
 "nbformat_minor": 4
}
